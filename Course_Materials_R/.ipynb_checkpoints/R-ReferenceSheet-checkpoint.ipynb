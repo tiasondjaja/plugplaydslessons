{
 "cells": [
  {
   "cell_type": "markdown",
   "metadata": {},
   "source": [
    "# From Data to Discovery (NYU CORE UA 111)\n",
    "# R Reference Sheet"
   ]
  },
  {
   "cell_type": "markdown",
   "metadata": {},
   "source": [
    "## Basic Functions\n",
    "+ `print( NAME )`: to print out string or values stored in NAME\n",
    "+ `sqrt( NAME )`: to take the square root of the value stored in NAME\n",
    "+ `abs( NAME )`: to take the absolute value of the value stored in NAME\n",
    "\n",
    "\n",
    "## Basic Functions on Lists\n",
    "+ `c( VALUE1, VALUE2, ... )`: to put values into one list\n",
    "+ `NUM1:NUM2`: to make a list of whole numbers starting from `NUM1` to `NUM2`\n",
    "+ `length( LISTNAME )`: to find the number of entries in the list `LISTNAME`\n",
    "+ `max( LISTNAME )`: to find the largest value in the list `LISTNAME`\n",
    "+ `min( LISTNAME )`: to find the smallest value in the list `LISTNAME`\n",
    "+ `sum( LISTNAME )`: to find the sum of values in the list `LISTNAME\n",
    "+ `mean( LISTNAME )`: to find the average of values in the list `LISTNAME`\n",
    "\n",
    "## Basic Functions on Data Frames\n",
    "+ `dim( DATAFRAMENAME )`: to find the number of rows and columns of the data frame `DATAFRAMENAME`\n",
    "+ `names( DATAFRAMENAME )`: to find the column names of the data frame `DATAFRAMENAME`\n",
    "+ `head( DATAFRAMENAME )`: to preview the first few rows of the data frame `DATAFRAMENAME` (the default is 6 rows)\n",
    "+ `head( DATAFRAMENAME, NUMBER)`: to preview the first `NUMBER` rows of the data frame `DATAFRAMENAME`\n",
    "+ `data.frame( COLUMNNAME1 = LIST1, COLUMNNAME2 = LIST2, ...)`: to create a new data frame with columns `COLUMNNAME1`, `COLUMNNAME2` (and possibly more or fewer columns), where the entries in `COLUMNNAME1` are specified in `LIST1`, the entries is `COLUMNNAME2` are specified in `LIST2`, etc.\n",
    "+ `data.frame( COLUMNNAME1 = double( NUMBER ), COLUMNNAME2 = double( NUMBER), ... )`: to create an empty data frame containing columns called `COLUMNNAME1`, `COLUMNNAME2` (and possibly more or fewer columns), with `NUMBER` rows.  We use `double` to indicate that the cells are to be filled with numbers of type `double` (numbers that are not necessarily whole numbers).\n",
    "\n",
    "## Importing Datasets\n",
    "+ `read.csv( 'FILENAME.csv')`: to \"read\" a csv file and import it as a data frame in R\n",
    "+ `read.csv( url('http://webaddress.etc') )`: to \"read\" a csv file from a URL (web address) and import it as a data frame in R\n",
    "\n",
    "## `dplyr` Functions (for working with data frames)\n",
    "+ `arrange( DATAFRAMENAME, COLUMNNAME )`: to sort rows by values in the column called `COLUMNNAME`, in ascending order\n",
    "+ `arrange( DATAFRAMENAME , desc( COLUMNNAME ) )`: to sort rows by values in the column called `COLUMNNAME`, in descending order\n",
    "+ `filter( DATAFRAMENAME, CRITERIA)`: to produce a new data frame that contains only: rows in the data frame `DATAFRAMENAME` that satisfy the criteria specified in `CRITERIA`.\n",
    "+ `group_by( DATAFRAMENAME, COLUMNNAME )`: to group rows of `DATAFRAMENAME` by their values in the column `COLUMNNAME`\n",
    "+ `summarize( GROUPEDDATAFRAMENAME, NEWCOLUMN = FORMULA )`: to compute a summary quantity from grouped data `GROUPEDDATAFRAMENAME` (usuall the output of `group_by()`), where the summary quantity is stored in a new column called `NEWCOLUMN` (this is up to you).\n",
    "\n",
    "## `ggplot2` Functions (for visualizing data)\n",
    "+ `ggplot( DATAFRAMENAME, aes( x = COLUMNNAME1, y = COLUMNNAME2 ) ) + geom_point()`: to create a scatterplot with data in `DATAFRAMENAME`, with `COLUMNNAME1` on the x-axis and `COLUMNNAME2` on the y-axis\n",
    "+ `ggplot( DATAFRAMENAME, aes( x = COLUMNNAME1, y = COLUMNNAME2 ) ) + geom_col()`: to create a bar chart with data in `DATAFRAMENAME`, with `COLUMNNAME1` on the x-axis and `COLUMNNAME2` on the y-axis\n",
    "+ `ggplot( DATAFRAMENAME, aes( x = COLUMNNAME ) ) + geom_bar()`: to create a bar chart with data in `DATAFRAMENAME`, with `COLUMNNAME` on the x-axis and the number of observations on the y-axis\n",
    "+ `ggplot( DATAFRAMENAME, aes( x = COLUMNNAME) ) + geom_histogram()`: to create a historam of the data in column `COLUMNNAME` in the data frame `DATAFRAMENAME`; the default number of bins is 30\n",
    "\n",
    "    `ggplot( DATAFRAMENAME, aes( x = COLUMNNAME) ) + geom_histogram( bins = NUMBER )`: to create a historam of the data in column `COLUMNNAME` in the data frame `DATAFRAMENAME`, with the number of bins equal to `NUMBER`\n",
    "    \n",
    "    `ggplot( DATAFRAMENAME, aes( x = COLUMNNAME) ) + geom_histogram( breaks = LIST )`: to create a historam of the data in column `COLUMNNAME` in the data frame `DATAFRAMENAME`, where the bins are specified by `LIST`"
   ]
  },
  {
   "cell_type": "markdown",
   "metadata": {},
   "source": [
    "## Defining New Functions\n",
    "    NEWFUNCTIONNAME <- function( INPUT1, INPUT2, ... ){        \n",
    "        ( ... describe task here ... )        \n",
    "        OUTPUT\n",
    "    }\n",
    "+ `NEWFUNCTIONNAME` is the name of this new function.\n",
    "+ `INPUT1`, `INPUT2`, etc: the first inputs to this new function.\n",
    "+ `OUTPUT`: output value to be returned (if any)\n",
    "\n",
    "## Conditionals\n",
    "    if( CONDITION ){\n",
    "        ( ... task to be completed if CONDITION is TRUE ... )\n",
    "    }\n",
    "    else{\n",
    "        ( ... task to be completed if CONDITION is FALSE ... )\n",
    "    }\n",
    "+ `CONDITION` takes a boolean value (either `TRUE` or `FALSE`)\n",
    "\n",
    "## While Loop\n",
    "    while( CONDITION ){\n",
    "        ( ... task to be completed as long as CONDITION is TRUE ... )    \n",
    "    }\n",
    "+ `CONDITION` takes a boolean value (either `TRUE` or `FALSE`)\n",
    "\n",
    "## Sampling and Statistics\n",
    "+ `sample( LIST_OFPOSSIBLE_OUTCOMES, NUMBER , replace = ... , prob = LIST_OFPROBABILITIES )`: to take `NUMBER` samples from `LIST_OFPOSSIBLEOUTCOMES`, where the probability of each outcome in this list is given by `LIST_OFPROBABILITIES`.  If the sampling is with replacement, then `replace = TRUE`; if the sampling is without replacement, then `replace = FALSE`.\n",
    "+ `quantile( LISTNAME, P , type = 1 )`: to find the percentile specified by `P` among the numbers in the list `LISTNAME`.  (Here, `P` is a number between 0 and 1.)\n",
    "\n",
    "## Miscellaneous\n",
    "+ `knn( TRAINING_DATA, TEST_DATA, LABELS, K)`: to predict the labels of each row of `TEST_DATA` data frame; the `TRAINING_DATA` data frame contains the same number of (feature) columns as `TEST_DATA`, with the corresponding labels stored in the `LABELS` data frame; `K` is a positive integer for the number of nearest neighbors to be considered."
   ]
  },
  {
   "cell_type": "code",
   "execution_count": null,
   "metadata": {},
   "outputs": [],
   "source": []
  }
 ],
 "metadata": {
  "kernelspec": {
   "display_name": "R",
   "language": "R",
   "name": "ir"
  },
  "language_info": {
   "codemirror_mode": "r",
   "file_extension": ".r",
   "mimetype": "text/x-r-source",
   "name": "R",
   "pygments_lexer": "r",
   "version": "3.5.1"
  }
 },
 "nbformat": 4,
 "nbformat_minor": 2
}
