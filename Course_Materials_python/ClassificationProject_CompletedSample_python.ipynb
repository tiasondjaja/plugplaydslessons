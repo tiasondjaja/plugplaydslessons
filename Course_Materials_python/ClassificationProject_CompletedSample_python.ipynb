{
 "cells": [
  {
   "cell_type": "markdown",
   "metadata": {},
   "source": [
    "# Classification Project\n",
    "\n",
    "## Overview\n",
    "\n",
    "You will be analyzing a movie data. Your goals in this project are \n",
    "+ to build classifiers that predict the genre of a movie--action or romance--based on the frequencies in which certain words appear in the movie script and\n",
    "+ to analyze the performance of these classifiers.\n",
    "\n",
    "Project components:\n",
    "1. **Data exploration and feature selection**\n",
    "\n",
    "    In order to get a sense of what features can help us distinguish an action movie from a romance movie, you would have to do some initial exploration and visualization of your training dataset.  Your project should include at least three data visualizations that help justify how you design your classifier.<br><br>\n",
    "    \n",
    "2. **Development of your own classifier**\n",
    "    \n",
    "    Your task here is to build your own \"simple classifier\"; it should use at least three features and you should use at least two if-else statements.  This classifier should be informed by your initial data exploration (step 1 above).<br><br>\n",
    "    \n",
    "3. **Assessment of your classifier**\n",
    "\n",
    "    Assess how your classifier does in predicting the genres of the movies in your test dataset.  You should measure the accuracy of your classifier.  Then, you should use one other metric (this could be one of the metrics we have discussed in class or one that you construct yourself).  If you use a metric that you created yourself, please include a brief explanation of your idea.<br><br>\n",
    "    \n",
    "4. **Comparison of the performance of your classifier to that of a k-Nearest Neighbor Classifier**\n",
    "\n",
    "    Use a kNN classifier with a particular choice of $k$ to predict the genre of the movies in your test dataset and assess the quality of the predictions.  Explain your choice of $k$.  Compare the performance of your classifier to that of the kNN classifier; comment on the result.<br><br>\n",
    "    \n",
    "5. **Writeup (Summary and Conclusion)**\n",
    "\n",
    "    Your writeup should include\n",
    "\n",
    "    + An explanation of your data visualizations (why you picked the pairs of words to plot, etc.) and an interpretation of your data visualization\n",
    "    + An explanation of your simple classifier, including how the data visualizations you produced inform the simple classifier(s) you constructed\n",
    "    + A discussion on the metrics you use to assess the performance of the classifiers\n",
    "    + A discussion of the performance of your simple classifier(s), in terms of accuracy and one other metric\n",
    "    + A discussion of the performance of the kNN classifier, including what $k$ value you chose and why, in terms of accuracy and one other metric\n",
    "    + A summary of how the simple classifier(s) you constructed compares to the kNN classifier, which classifier you would recommend to use, the shortcomings of your chosen classifiers, and any ideas for future improvements"
   ]
  },
  {
   "cell_type": "markdown",
   "metadata": {},
   "source": [
    "## Team Information\n",
    "\n",
    "Team members: (enter your names here)\n",
    "\n",
    "NetIDs: "
   ]
  },
  {
   "cell_type": "markdown",
   "metadata": {},
   "source": [
    "## 0. Load data and libraries; split data into training and test data"
   ]
  },
  {
   "cell_type": "code",
   "execution_count": 1,
   "metadata": {},
   "outputs": [],
   "source": [
    "# libraries\n",
    "import numpy as np\n",
    "import pandas as pd\n",
    "import matplotlib.pyplot as plt\n",
    "import seaborn as sns"
   ]
  },
  {
   "cell_type": "code",
   "execution_count": 2,
   "metadata": {},
   "outputs": [],
   "source": [
    "# load data\n",
    "moviesdata = pd.read_csv('../datasets/movies.csv')"
   ]
  },
  {
   "cell_type": "code",
   "execution_count": 3,
   "metadata": {},
   "outputs": [
    {
     "name": "stdout",
     "output_type": "stream",
     "text": [
      "(242, 5006)\n"
     ]
    }
   ],
   "source": [
    "# size of data\n",
    "print(moviesdata.shape) # 242 rows, 5006 columns -> 242 movies, 5006 columns"
   ]
  },
  {
   "cell_type": "code",
   "execution_count": 4,
   "metadata": {},
   "outputs": [],
   "source": [
    "# Decide how many rows will be used for training and testing (for example, 30% for test)\n",
    "\n",
    "# two ways (depending on course objectives)\n",
    "# 1. the short way, using sklearn\n",
    "#from sklearn.model_selection import train_test_split\n",
    "#training_data, test_data = train_test_split(moviesdata, test_size=0.3)\n",
    "\n",
    "\n",
    "# 2. do it \"from scratch\"\n",
    "# Split moviesdata into two\n",
    "#   scramble rows of the movies data\n",
    "moviesdata_scrambled = moviesdata.sample(frac=1, random_state = 1).reset_index(drop=True)\n",
    "\n",
    "#   split\n",
    "num_test = np.round( 0.3 * 242 )\n",
    "\n",
    "training_rows_indices = np.arange(num_test, 242)\n",
    "test_rows_indices = np.arange(0, num_test)\n",
    "\n",
    "training_data = moviesdata_scrambled.iloc[training_rows_indices, : ]\n",
    "test_data = moviesdata_scrambled.iloc[test_rows_indices, : ]"
   ]
  },
  {
   "cell_type": "code",
   "execution_count": 5,
   "metadata": {},
   "outputs": [
    {
     "name": "stdout",
     "output_type": "stream",
     "text": [
      "(169, 5006)\n",
      "(73, 5006)\n"
     ]
    }
   ],
   "source": [
    "# check numberof training and test data\n",
    "print(training_data.shape)\n",
    "print(test_data.shape)"
   ]
  },
  {
   "cell_type": "markdown",
   "metadata": {},
   "source": [
    "## 1. Data exploration and feature selection"
   ]
  },
  {
   "cell_type": "code",
   "execution_count": 6,
   "metadata": {},
   "outputs": [
    {
     "data": {
      "text/html": [
       "<div>\n",
       "<style scoped>\n",
       "    .dataframe tbody tr th:only-of-type {\n",
       "        vertical-align: middle;\n",
       "    }\n",
       "\n",
       "    .dataframe tbody tr th {\n",
       "        vertical-align: top;\n",
       "    }\n",
       "\n",
       "    .dataframe thead th {\n",
       "        text-align: right;\n",
       "    }\n",
       "</style>\n",
       "<table border=\"1\" class=\"dataframe\">\n",
       "  <thead>\n",
       "    <tr style=\"text-align: right;\">\n",
       "      <th></th>\n",
       "      <th>Title</th>\n",
       "      <th>Genre</th>\n",
       "      <th>Year</th>\n",
       "      <th>Rating</th>\n",
       "      <th># Votes</th>\n",
       "      <th># Words</th>\n",
       "      <th>i</th>\n",
       "      <th>the</th>\n",
       "      <th>to</th>\n",
       "      <th>a</th>\n",
       "      <th>...</th>\n",
       "      <th>foster</th>\n",
       "      <th>pub</th>\n",
       "      <th>vegetarian</th>\n",
       "      <th>garrison</th>\n",
       "      <th>grammoo</th>\n",
       "      <th>chimney</th>\n",
       "      <th>bikini</th>\n",
       "      <th>richter</th>\n",
       "      <th>psychopath</th>\n",
       "      <th>fling</th>\n",
       "    </tr>\n",
       "  </thead>\n",
       "  <tbody>\n",
       "    <tr>\n",
       "      <th>73</th>\n",
       "      <td>terminator 2: judgment day</td>\n",
       "      <td>action</td>\n",
       "      <td>1991</td>\n",
       "      <td>8.5</td>\n",
       "      <td>243230</td>\n",
       "      <td>2144</td>\n",
       "      <td>0.037313</td>\n",
       "      <td>0.030784</td>\n",
       "      <td>0.032649</td>\n",
       "      <td>0.026586</td>\n",
       "      <td>...</td>\n",
       "      <td>0.000466</td>\n",
       "      <td>0.0</td>\n",
       "      <td>0.0</td>\n",
       "      <td>0.0</td>\n",
       "      <td>0.0</td>\n",
       "      <td>0.0</td>\n",
       "      <td>0.0</td>\n",
       "      <td>0.0</td>\n",
       "      <td>0.0</td>\n",
       "      <td>0.0</td>\n",
       "    </tr>\n",
       "    <tr>\n",
       "      <th>74</th>\n",
       "      <td>little nicky</td>\n",
       "      <td>romance</td>\n",
       "      <td>2000</td>\n",
       "      <td>5.0</td>\n",
       "      <td>35489</td>\n",
       "      <td>2897</td>\n",
       "      <td>0.042803</td>\n",
       "      <td>0.031757</td>\n",
       "      <td>0.026234</td>\n",
       "      <td>0.019676</td>\n",
       "      <td>...</td>\n",
       "      <td>0.000000</td>\n",
       "      <td>0.0</td>\n",
       "      <td>0.0</td>\n",
       "      <td>0.0</td>\n",
       "      <td>0.0</td>\n",
       "      <td>0.0</td>\n",
       "      <td>0.0</td>\n",
       "      <td>0.0</td>\n",
       "      <td>0.0</td>\n",
       "      <td>0.0</td>\n",
       "    </tr>\n",
       "    <tr>\n",
       "      <th>75</th>\n",
       "      <td>15 minutes</td>\n",
       "      <td>action</td>\n",
       "      <td>2001</td>\n",
       "      <td>6.1</td>\n",
       "      <td>25854</td>\n",
       "      <td>5990</td>\n",
       "      <td>0.036895</td>\n",
       "      <td>0.030217</td>\n",
       "      <td>0.027713</td>\n",
       "      <td>0.028214</td>\n",
       "      <td>...</td>\n",
       "      <td>0.000000</td>\n",
       "      <td>0.0</td>\n",
       "      <td>0.0</td>\n",
       "      <td>0.0</td>\n",
       "      <td>0.0</td>\n",
       "      <td>0.0</td>\n",
       "      <td>0.0</td>\n",
       "      <td>0.0</td>\n",
       "      <td>0.0</td>\n",
       "      <td>0.0</td>\n",
       "    </tr>\n",
       "    <tr>\n",
       "      <th>76</th>\n",
       "      <td>the boondock saints</td>\n",
       "      <td>action</td>\n",
       "      <td>1999</td>\n",
       "      <td>7.8</td>\n",
       "      <td>87895</td>\n",
       "      <td>4799</td>\n",
       "      <td>0.023963</td>\n",
       "      <td>0.042926</td>\n",
       "      <td>0.016045</td>\n",
       "      <td>0.021671</td>\n",
       "      <td>...</td>\n",
       "      <td>0.000000</td>\n",
       "      <td>0.0</td>\n",
       "      <td>0.0</td>\n",
       "      <td>0.0</td>\n",
       "      <td>0.0</td>\n",
       "      <td>0.0</td>\n",
       "      <td>0.0</td>\n",
       "      <td>0.0</td>\n",
       "      <td>0.0</td>\n",
       "      <td>0.0</td>\n",
       "    </tr>\n",
       "  </tbody>\n",
       "</table>\n",
       "<p>4 rows × 5006 columns</p>\n",
       "</div>"
      ],
      "text/plain": [
       "                         Title    Genre  Year  Rating  # Votes  # Words  \\\n",
       "73  terminator 2: judgment day   action  1991     8.5   243230     2144   \n",
       "74                little nicky  romance  2000     5.0    35489     2897   \n",
       "75                  15 minutes   action  2001     6.1    25854     5990   \n",
       "76         the boondock saints   action  1999     7.8    87895     4799   \n",
       "\n",
       "           i       the        to         a  ...    foster  pub  vegetarian  \\\n",
       "73  0.037313  0.030784  0.032649  0.026586  ...  0.000466  0.0         0.0   \n",
       "74  0.042803  0.031757  0.026234  0.019676  ...  0.000000  0.0         0.0   \n",
       "75  0.036895  0.030217  0.027713  0.028214  ...  0.000000  0.0         0.0   \n",
       "76  0.023963  0.042926  0.016045  0.021671  ...  0.000000  0.0         0.0   \n",
       "\n",
       "    garrison  grammoo  chimney  bikini  richter  psychopath  fling  \n",
       "73       0.0      0.0      0.0     0.0      0.0         0.0    0.0  \n",
       "74       0.0      0.0      0.0     0.0      0.0         0.0    0.0  \n",
       "75       0.0      0.0      0.0     0.0      0.0         0.0    0.0  \n",
       "76       0.0      0.0      0.0     0.0      0.0         0.0    0.0  \n",
       "\n",
       "[4 rows x 5006 columns]"
      ]
     },
     "execution_count": 6,
     "metadata": {},
     "output_type": "execute_result"
    }
   ],
   "source": [
    "# peek into the dataset\n",
    "training_data.head(4)"
   ]
  },
  {
   "cell_type": "code",
   "execution_count": 7,
   "metadata": {},
   "outputs": [
    {
     "name": "stdout",
     "output_type": "stream",
     "text": [
      "Index(['Title', 'Genre', 'Year', 'Rating', '# Votes', '# Words', 'i', 'the',\n",
      "       'to', 'a',\n",
      "       ...\n",
      "       'foster', 'pub', 'vegetarian', 'garrison', 'grammoo', 'chimney',\n",
      "       'bikini', 'richter', 'psychopath', 'fling'],\n",
      "      dtype='object', length=5006)\n"
     ]
    }
   ],
   "source": [
    "cols = training_data.columns\n",
    "\n",
    "print(cols)\n",
    "# column 1 = Title\n",
    "# column 2 = Genre <- LABEL\n",
    "# column 3 = Year\n",
    "# column 4 = Rating\n",
    "# column 5 = X..Votes\n",
    "# column 6 = X..Words\n",
    "# columns 7 onwards = words <- VARIABLES"
   ]
  },
  {
   "cell_type": "code",
   "execution_count": 8,
   "metadata": {},
   "outputs": [
    {
     "data": {
      "text/plain": [
       "112"
      ]
     },
     "execution_count": 8,
     "metadata": {},
     "output_type": "execute_result"
    }
   ],
   "source": [
    "# finding the column index of a word (and to check if a word is there or not)\n",
    "training_data.columns.get_loc('love')"
   ]
  },
  {
   "cell_type": "code",
   "execution_count": 9,
   "metadata": {},
   "outputs": [
    {
     "data": {
      "text/plain": [
       "(0, 0.001)"
      ]
     },
     "execution_count": 9,
     "metadata": {},
     "output_type": "execute_result"
    },
    {
     "data": {
      "image/png": "[encoded data removed]",
      "text/plain": [
       "<Figure size 439.875x360 with 1 Axes>"
      ]
     },
     "metadata": {
      "needs_background": "light"
     },
     "output_type": "display_data"
    }
   ],
   "source": [
    "# scatter plot: the frequency of 'love' on x-axis, 'robberi' on y-axis, color of points corresponds to genre\n",
    "\n",
    "sns.lmplot(x = 'love', y = 'robberi', hue = 'Genre', data = training_data, fit_reg=False )\n",
    "plt.xlim(0, 0.03 )\n",
    "plt.ylim(0, 0.001)\n",
    "\n",
    "# Observation: if love > 0.005, likely to be romance; if roberri > 0.0003, likely to be action"
   ]
  },
  {
   "cell_type": "code",
   "execution_count": 10,
   "metadata": {},
   "outputs": [
    {
     "data": {
      "text/plain": [
       "(0, 0.001)"
      ]
     },
     "execution_count": 10,
     "metadata": {},
     "output_type": "execute_result"
    },
    {
     "data": {
      "image/png": "[encoded data removed]",
      "text/plain": [
       "<Figure size 439.875x360 with 1 Axes>"
      ]
     },
     "metadata": {
      "needs_background": "light"
     },
     "output_type": "display_data"
    }
   ],
   "source": [
    "# scatter plot 2\n",
    "\n",
    "sns.lmplot(x = 'robberi', y = 'motel', hue = 'Genre', data = training_data, fit_reg=False )\n",
    "\n",
    "plt.xlim(0, 0.001 )\n",
    "plt.ylim(0, 0.001 )"
   ]
  },
  {
   "cell_type": "code",
   "execution_count": 11,
   "metadata": {},
   "outputs": [
    {
     "data": {
      "text/plain": [
       "(0, 0.001)"
      ]
     },
     "execution_count": 11,
     "metadata": {},
     "output_type": "execute_result"
    },
    {
     "data": {
      "image/png": "[encoded data removed]",
      "text/plain": [
       "<Figure size 439.875x360 with 1 Axes>"
      ]
     },
     "metadata": {
      "needs_background": "light"
     },
     "output_type": "display_data"
    }
   ],
   "source": [
    "# scatter plot 3\n",
    "\n",
    "sns.lmplot(x = 'prison', y = 'motel', hue = 'Genre', data = training_data, fit_reg=False )\n",
    "\n",
    "plt.xlim(0, 0.003 )\n",
    "plt.ylim(0, 0.001 )"
   ]
  },
  {
   "cell_type": "markdown",
   "metadata": {},
   "source": [
    "## 2. Development of your own classifier"
   ]
  },
  {
   "cell_type": "code",
   "execution_count": 12,
   "metadata": {},
   "outputs": [],
   "source": [
    "def my_classifier( love_freq, robberi_freq, motel_freq, prison_freq ):\n",
    "    if (love_freq > 0.005):\n",
    "        output = 'romance'\n",
    "    elif (robberi_freq > 0.0003):\n",
    "        output = 'action'\n",
    "    elif (motel_freq > 0.0003):\n",
    "        output = 'action'\n",
    "    elif (prison_freq > 0.00025):\n",
    "        output = 'action'\n",
    "    else:\n",
    "        output = 'romance'\n",
    "    \n",
    "    return output"
   ]
  },
  {
   "cell_type": "code",
   "execution_count": 13,
   "metadata": {},
   "outputs": [
    {
     "data": {
      "text/plain": [
       "'action'"
      ]
     },
     "execution_count": 13,
     "metadata": {},
     "output_type": "execute_result"
    }
   ],
   "source": [
    "# test\n",
    "my_classifier( 0.0001, 0.001, 0.0002, 0.005)"
   ]
  },
  {
   "cell_type": "code",
   "execution_count": 14,
   "metadata": {},
   "outputs": [
    {
     "name": "stdout",
     "output_type": "stream",
     "text": [
      "[2449, 112, 2255, 609]\n",
      "robberi             0\n",
      "love       0.00276148\n",
      "motel               0\n",
      "prison              0\n",
      "Name: 74, dtype: object\n",
      "Movie title: little nicky\n",
      "Actual genre: romance\n",
      "Predicted genre: romance\n"
     ]
    }
   ],
   "source": [
    "# test with a row from training data\n",
    "\n",
    "#  pick the movie\n",
    "row_index = 1 # pick a row number \n",
    "movie_title = training_data.iloc[ row_index, 0]\n",
    "actual_genre = training_data.iloc[ row_index, 1]\n",
    "\n",
    "#  get columns indices of the chosen words/\"features\"\n",
    "love_col = training_data.columns.get_loc('love')\n",
    "robberi_col = training_data.columns.get_loc('robberi')\n",
    "motel_col = training_data.columns.get_loc('motel')\n",
    "prison_col = training_data.columns.get_loc('prison')\n",
    "\n",
    "feature_columns = [robberi_col, love_col, motel_col, prison_col]\n",
    "\n",
    "# check column indices\n",
    "print( feature_columns )\n",
    "\n",
    "# check frequencies\n",
    "print( training_data.iloc[row_index, feature_columns ] )\n",
    "\n",
    "# check frequencies\n",
    "love_freq = training_data.iloc[ row_index, love_col ]\n",
    "robberi_freq = training_data.iloc[ row_index, robberi_col ]\n",
    "motel_freq = training_data.iloc[ row_index, motel_col ]\n",
    "prison_freq = training_data.iloc[ row_index, prison_col ]\n",
    "\n",
    "\n",
    "\n",
    "# predict\n",
    "predicted_genre = my_classifier( love_freq, robberi_freq, motel_freq, prison_freq )\n",
    "\n",
    "\n",
    "\n",
    "print( 'Movie title: ' + movie_title) \n",
    "print( 'Actual genre: ' + actual_genre)\n",
    "print( 'Predicted genre: ' + predicted_genre)"
   ]
  },
  {
   "cell_type": "code",
   "execution_count": 15,
   "metadata": {},
   "outputs": [],
   "source": [
    "# write a \"predict\" function\n",
    "\n",
    "def predict( dataset ):\n",
    "    \n",
    "    num_rows = dataset.shape[0]\n",
    "    \n",
    "    # column indices\n",
    "    love_col = training_data.columns.get_loc('love')\n",
    "    robberi_col = training_data.columns.get_loc('robberi')\n",
    "    motel_col = training_data.columns.get_loc('motel')\n",
    "    prison_col = training_data.columns.get_loc('prison')\n",
    "    \n",
    "    # set up a blank dataframe containing one column: predicted genre\n",
    "    #   and num_training many rows\n",
    "    output_df = pd.DataFrame( index = range(0,num_rows),columns=['PredictedGenre'], dtype='str')\n",
    "    \n",
    "    # loop over each row in the training dataset\n",
    "    row_index = 0\n",
    "    while( row_index < num_rows ):\n",
    "        # frequencies\n",
    "        love_freq = dataset.iloc[ row_index, love_col ]\n",
    "        robberi_freq = dataset.iloc[ row_index, robberi_col ]\n",
    "        motel_freq = dataset.iloc[ row_index, motel_col ]\n",
    "        prison_freq = dataset.iloc[ row_index, prison_col ]\n",
    "        \n",
    "        # predicted genre\n",
    "        pred = my_classifier( love_freq, robberi_freq, motel_freq, prison_freq )\n",
    "        output_df.iloc[ row_index, 0 ] = pred\n",
    "        \n",
    "        row_index = row_index+ 1\n",
    "    \n",
    "    return output_df"
   ]
  },
  {
   "cell_type": "code",
   "execution_count": 16,
   "metadata": {},
   "outputs": [
    {
     "data": {
      "text/html": [
       "<div>\n",
       "<style scoped>\n",
       "    .dataframe tbody tr th:only-of-type {\n",
       "        vertical-align: middle;\n",
       "    }\n",
       "\n",
       "    .dataframe tbody tr th {\n",
       "        vertical-align: top;\n",
       "    }\n",
       "\n",
       "    .dataframe thead th {\n",
       "        text-align: right;\n",
       "    }\n",
       "</style>\n",
       "<table border=\"1\" class=\"dataframe\">\n",
       "  <thead>\n",
       "    <tr style=\"text-align: right;\">\n",
       "      <th></th>\n",
       "      <th>PredictedGenre</th>\n",
       "    </tr>\n",
       "  </thead>\n",
       "  <tbody>\n",
       "    <tr>\n",
       "      <th>0</th>\n",
       "      <td>action</td>\n",
       "    </tr>\n",
       "    <tr>\n",
       "      <th>1</th>\n",
       "      <td>romance</td>\n",
       "    </tr>\n",
       "    <tr>\n",
       "      <th>2</th>\n",
       "      <td>action</td>\n",
       "    </tr>\n",
       "    <tr>\n",
       "      <th>3</th>\n",
       "      <td>romance</td>\n",
       "    </tr>\n",
       "    <tr>\n",
       "      <th>4</th>\n",
       "      <td>romance</td>\n",
       "    </tr>\n",
       "  </tbody>\n",
       "</table>\n",
       "</div>"
      ],
      "text/plain": [
       "  PredictedGenre\n",
       "0         action\n",
       "1        romance\n",
       "2         action\n",
       "3        romance\n",
       "4        romance"
      ]
     },
     "execution_count": 16,
     "metadata": {},
     "output_type": "execute_result"
    }
   ],
   "source": [
    "# predict genres of movies in test data\n",
    "\n",
    "prediction_df = predict( test_data ) \n",
    "\n",
    "prediction_df.head()"
   ]
  },
  {
   "cell_type": "markdown",
   "metadata": {},
   "source": [
    "## 3. Assessment of your classifier"
   ]
  },
  {
   "cell_type": "code",
   "execution_count": 17,
   "metadata": {},
   "outputs": [],
   "source": [
    "# write a function that computes the accuracy, given two lists\n",
    "\n",
    "def compute_accuracy ( actual_genres, predicted_genres ):\n",
    "    \n",
    "    num_data = len(actual_genres)\n",
    "    num_correct = np.sum( actual_genres == predicted_genres)\n",
    "    accuracy = num_correct / num_data\n",
    "    \n",
    "    return accuracy "
   ]
  },
  {
   "cell_type": "code",
   "execution_count": 18,
   "metadata": {},
   "outputs": [
    {
     "name": "stdout",
     "output_type": "stream",
     "text": [
      "0.547945205479452\n"
     ]
    }
   ],
   "source": [
    "prediction_accuracy = compute_accuracy( test_data['Genre'], prediction_df['PredictedGenre'] )\n",
    "\n",
    "print( prediction_accuracy )"
   ]
  },
  {
   "cell_type": "code",
   "execution_count": 19,
   "metadata": {},
   "outputs": [],
   "source": [
    "# write another function/metric that assesses the classifier\n",
    "\n",
    "# for example:\n",
    "# find the rate of correct predictions out of all romance movies\n",
    "# (this is essentially the \"true positive rate\" if our question has been \"is this a romance movie?\")\n",
    "\n",
    "def compute_true_romance_rate( actual_genres, predicted_genres ):\n",
    "    num_rows = len(actual_genres)\n",
    "    num_romance = np.sum( actual_genres == 'romance' )\n",
    "    \n",
    "    # loop to count the number of movies that are actually romance and was predicted to be romance\n",
    "    # counters to be incremented in the loop:\n",
    "    num_true_romance = 0\n",
    "    row_index = 0\n",
    "    \n",
    "    while( row_index < num_rows ) :\n",
    "        if ( (actual_genres[row_index] == predicted_genres[row_index]) and (actual_genres[row_index] == 'romance') ):\n",
    "            num_true_romance = num_true_romance + 1\n",
    "        row_index = row_index + 1\n",
    "    \n",
    "    true_romance_rate = num_true_romance / num_romance\n",
    "    \n",
    "    return true_romance_rate"
   ]
  },
  {
   "cell_type": "code",
   "execution_count": 20,
   "metadata": {},
   "outputs": [
    {
     "name": "stdout",
     "output_type": "stream",
     "text": [
      "0.9615384615384616\n"
     ]
    }
   ],
   "source": [
    "prediction_true_romance_rate = compute_true_romance_rate( test_data['Genre'], prediction_df['PredictedGenre'] )\n",
    "\n",
    "print( prediction_true_romance_rate )"
   ]
  },
  {
   "cell_type": "markdown",
   "metadata": {},
   "source": [
    "## 4. k-Nearest Neighbor Classifier"
   ]
  },
  {
   "cell_type": "code",
   "execution_count": 21,
   "metadata": {},
   "outputs": [],
   "source": [
    "# we'll do this twice:\n",
    "# 1. using the KNeighborsClassifier function from sklearn.neighbors\n",
    "# 2. using our own knn function, possibly with tweaks\n",
    "# and compare the results\n",
    "\n",
    "\n",
    "# -----\n",
    "# 1. Using KNeighborsClassifier from sklearn\n",
    "# first load the library\n",
    "from sklearn.neighbors import KNeighborsClassifier"
   ]
  },
  {
   "cell_type": "code",
   "execution_count": 22,
   "metadata": {},
   "outputs": [
    {
     "name": "stdout",
     "output_type": "stream",
     "text": [
      "0.726027397260274\n",
      "0.6923076923076923\n"
     ]
    }
   ],
   "source": [
    "# for starters, try kNN with k = 5\n",
    "feature_columns = [robberi_col, love_col, motel_col, prison_col]\n",
    "label_column = 1\n",
    "\n",
    "# use knn() from class library to predict the genres of movies in test_data \n",
    "knnmodel = KNeighborsClassifier( n_neighbors = 5 )\n",
    "\n",
    "knnmodel.fit( X = training_data.iloc[ :, feature_columns] , y = training_data.iloc[:,label_column] )\n",
    "\n",
    "knn_prediction = knnmodel.predict( test_data.iloc[:, feature_columns] )\n",
    "\n",
    "# compute the accuracy\n",
    "knn_prediction_accuracy = compute_accuracy( test_data.iloc[:,label_column], knn_prediction )\n",
    "print(knn_prediction_accuracy )\n",
    "\n",
    "# compute the \"true romance rate\"\n",
    "knn_prediction_true_romance_rate = compute_true_romance_rate( test_data.iloc[:,label_column], knn_prediction )\n",
    "print( knn_prediction_true_romance_rate )"
   ]
  },
  {
   "cell_type": "code",
   "execution_count": 23,
   "metadata": {},
   "outputs": [],
   "source": [
    "# -----\n",
    "# 2. Writing our own knn function\n",
    "\n",
    "# first write a function that computes the distance between two rows\n",
    "def compute_distance( row1, row2 ):\n",
    "    output = np.sqrt( np.sum( (row1 - row2) ** 2 ) )\n",
    "    return output\n",
    "\n",
    "# write a knn function that predicts the label of a new point (row) \n",
    "#  based on its distance to rows in the training data frame\n",
    "def knn_one_point( training, new_point_row, label_column, feature_columns, k ):\n",
    "    num_rows = training.shape[0]\n",
    "    \n",
    "    # compute the distance between the new data point and each row in the training data frame\n",
    "    distances_df = pd.DataFrame( index = np.arange(0, num_rows), columns = ['Genre', 'Distance'], dtype = float )\n",
    "    \n",
    "    row_index = 0\n",
    "    while (row_index < num_rows ):\n",
    "        distances_df.iloc[ row_index, 0] = training.iloc[row_index, label_column]\n",
    "        dist = compute_distance( training.iloc[row_index, feature_columns ], \n",
    "                                                          new_point_row[ feature_columns ] )\n",
    "        distances_df.iloc[ row_index, 1 ] = dist\n",
    "        row_index = row_index + 1\n",
    "        \n",
    "    # find the k closest neighbors and their labels\n",
    "    k_nearest_neighbors = distances_df.nsmallest(k, 'Distance') # find rows with smallest k distances\n",
    "    labels_of_k_nearest_neighbors = k_nearest_neighbors['Genre'] # keep the labels\n",
    "    \n",
    "    # predict label of new point\n",
    "    \n",
    "    #  ( here, some students might experiment with other ways to pick a label;\n",
    "    #     for example by taking into account the distance from new point to each neighbor; closer neighbors might\n",
    "    #     carry more \"vote\", etc. )\n",
    "    \n",
    "    num_romance = np.sum( labels_of_k_nearest_neighbors == 'romance')\n",
    "    num_action = np.sum( labels_of_k_nearest_neighbors == 'action')\n",
    "    \n",
    "    # implement majority vote for choosing label of new point; toss an unbiased coin if there is a tie\n",
    "    if( num_romance < num_action ):\n",
    "        new_point_label = 'action'\n",
    "    elif ( num_romance > num_action ):\n",
    "        new_point_label = 'romance'\n",
    "    else: # if there is a tie (possible when k is even)\n",
    "        new_point_label = np.random.choice( ['romance', 'action'], 1 )\n",
    "    \n",
    "    return new_point_label\n",
    "\n",
    "\n",
    "# write a knn function that predicts the label of each row in a test data frame \n",
    "#  based on their distances to rows in the training data frame\n",
    "\n",
    "def my_knn( training, test, label_column, feature_columns, k ):\n",
    "    num_test = test.shape[0]\n",
    "    \n",
    "    prediction_df = pd.DataFrame( index = np.arange(0, num_test), columns = ['PredictedGenre'], dtype = float )\n",
    "    \n",
    "    test_row_index = 0\n",
    "    while( test_row_index < num_test):\n",
    "        prediction_df.iloc[test_row_index, 0] = knn_one_point( training, \n",
    "                                                              test.iloc[test_row_index,:], \n",
    "                                                              label_column, feature_columns, k )\n",
    "        test_row_index = test_row_index + 1\n",
    "    \n",
    "    return prediction_df"
   ]
  },
  {
   "cell_type": "code",
   "execution_count": 24,
   "metadata": {},
   "outputs": [
    {
     "name": "stdout",
     "output_type": "stream",
     "text": [
      "0\n",
      "1\n",
      "2\n",
      "3\n",
      "4\n",
      "5\n",
      "6\n",
      "7\n",
      "8\n",
      "9\n",
      "10\n",
      "11\n",
      "12\n",
      "13\n",
      "14\n",
      "15\n",
      "16\n",
      "17\n",
      "18\n",
      "19\n",
      "20\n",
      "21\n",
      "22\n",
      "23\n",
      "24\n",
      "25\n",
      "26\n",
      "27\n",
      "28\n",
      "29\n",
      "30\n",
      "31\n",
      "32\n",
      "33\n",
      "34\n",
      "35\n",
      "36\n",
      "37\n",
      "38\n",
      "39\n",
      "40\n",
      "41\n",
      "42\n",
      "43\n",
      "44\n",
      "45\n",
      "46\n",
      "47\n",
      "48\n",
      "49\n",
      "50\n",
      "51\n",
      "52\n",
      "53\n",
      "54\n",
      "55\n",
      "56\n",
      "57\n",
      "58\n",
      "59\n",
      "60\n",
      "61\n",
      "62\n",
      "63\n",
      "64\n",
      "65\n",
      "66\n",
      "67\n",
      "68\n",
      "69\n",
      "70\n",
      "71\n",
      "72\n"
     ]
    }
   ],
   "source": [
    "feature_columns = [robberi_col, love_col, motel_col, prison_col]\n",
    "label_column = 1\n",
    "\n",
    "# for starters, try with k = 5\n",
    "k = 5\n",
    "my_knn_prediction = my_knn( training_data, test_data, label_column, feature_columns, k)"
   ]
  },
  {
   "cell_type": "code",
   "execution_count": 25,
   "metadata": {},
   "outputs": [
    {
     "name": "stdout",
     "output_type": "stream",
     "text": [
      "0.726027397260274\n",
      "0.6923076923076923\n"
     ]
    }
   ],
   "source": [
    "# check accuracy and true romance rate\n",
    "\n",
    "my_knn_accuracy = compute_accuracy( test_data.iloc[:, label_column], my_knn_prediction.iloc[:,0] )\n",
    "my_knn_true_romance_rate = compute_true_romance_rate( test_data.iloc[:,label_column], my_knn_prediction.iloc[:,0] )\n",
    "\n",
    "print( my_knn_accuracy )\n",
    "print( my_knn_true_romance_rate )"
   ]
  },
  {
   "cell_type": "code",
   "execution_count": 26,
   "metadata": {},
   "outputs": [
    {
     "data": {
      "text/plain": [
       "73"
      ]
     },
     "execution_count": 26,
     "metadata": {},
     "output_type": "execute_result"
    }
   ],
   "source": [
    "np.sum(knn_prediction == my_knn_prediction.iloc[:,0])\n",
    "\n",
    "# the knn() function and our m_knn() function gives us the same predictions for most of the movies, but not all\n",
    "#  (this might be caused by ties: for some movies, it might have ties in closest neighbors with different labels)"
   ]
  },
  {
   "cell_type": "markdown",
   "metadata": {},
   "source": [
    "## 5. Writeup (Summary and Conclusion)"
   ]
  },
  {
   "cell_type": "markdown",
   "metadata": {},
   "source": [
    "(Your writeup goes here)"
   ]
  }
 ],
 "metadata": {
  "kernelspec": {
   "display_name": "Python 3",
   "language": "python",
   "name": "python3"
  },
  "language_info": {
   "codemirror_mode": {
    "name": "ipython",
    "version": 3
   },
   "file_extension": ".py",
   "mimetype": "text/x-python",
   "name": "python",
   "nbconvert_exporter": "python",
   "pygments_lexer": "ipython3",
   "version": "3.7.0"
  }
 },
 "nbformat": 4,
 "nbformat_minor": 2
}
