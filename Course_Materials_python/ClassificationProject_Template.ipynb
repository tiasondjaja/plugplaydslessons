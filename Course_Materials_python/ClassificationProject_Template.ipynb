{
 "cells": [
  {
   "cell_type": "markdown",
   "metadata": {},
   "source": [
    "# Classification Project\n",
    "\n",
    "## Overview\n",
    "\n",
    "You will be analyzing a movie data. Your goals in this project are \n",
    "+ to build classifiers that predict the genre of a movie--action or romance--based on the frequencies in which certain words appear in the movie script and\n",
    "+ to analyze the performance of these classifiers.\n",
    "\n",
    "Project components:\n",
    "1. **Data exploration and feature selection**\n",
    "\n",
    "    In order to get a sense of what features can help us distinguish an action movie from a romance movie, you would have to do some initial exploration and visualization of your training dataset.  Your project should include at least three data visualizations that help justify how you design your classifier.<br><br>\n",
    "    \n",
    "2. **Development of your own classifier**\n",
    "    \n",
    "    Your task here is to build your own \"simple classifier\"; it should use at least three features and you should use at least two if-else statements.  This classifier should be informed by your initial data exploration (step 1 above).<br><br>\n",
    "    \n",
    "3. **Assessment of your classifier**\n",
    "\n",
    "    Assess how your classifier does in predicting the genres of the movies in your test dataset.  You should measure the accuracy of your classifier.  Then, you should use one other metric (this could be one of the metrics we have discussed in class or one that you construct yourself).  If you use a metric that you created yourself, please include a brief explanation of your idea.<br><br>\n",
    "    \n",
    "4. **Comparison of the performance of your classifier to that of a k-Nearest Neighbor Classifier**\n",
    "\n",
    "    Use a kNN classifier with a particular choice of $k$ to predict the genre of the movies in your test dataset and assess the quality of the predictions.  Explain your choice of $k$.  Compare the performance of your classifier to that of the kNN classifier; comment on the result.<br><br>\n",
    "    \n",
    "5. **Writeup (Summary and Conclusion)**\n",
    "\n",
    "    Your writeup should include\n",
    "\n",
    "    + An explanation of your data visualizations (why you picked the pairs of words to plot, etc.) and an interpretation of your data visualization\n",
    "    + An explanation of your simple classifier, including how the data visualizations you produced inform the simple classifier(s) you constructed\n",
    "    + A discussion on the metrics you use to assess the performance of the classifiers\n",
    "    + A discussion of the performance of your simple classifier(s), in terms of accuracy and one other metric\n",
    "    + A discussion of the performance of the kNN classifier, including what $k$ value you chose and why, in terms of accuracy and one other metric\n",
    "    + A summary of how the simple classifier(s) you constructed compares to the kNN classifier, which classifier you would recommend to use, the shortcomings of your chosen classifiers, and any ideas for future improvements"
   ]
  },
  {
   "cell_type": "markdown",
   "metadata": {},
   "source": [
    "## Team Information\n",
    "\n",
    "Team members: (enter your names here)\n",
    "\n",
    "NetIDs: "
   ]
  },
  {
   "cell_type": "markdown",
   "metadata": {},
   "source": [
    "## 0. Load data and libraries; split data into training and test data"
   ]
  },
  {
   "cell_type": "code",
   "execution_count": 1,
   "metadata": {},
   "outputs": [],
   "source": [
    "# libraries\n",
    "import numpy as np\n",
    "import pandas as pd\n",
    "import matplotlib.pyplot as plt\n",
    "import seaborn as sns"
   ]
  },
  {
   "cell_type": "code",
   "execution_count": 2,
   "metadata": {},
   "outputs": [],
   "source": [
    "# load data\n",
    "moviesdata = pd.read_csv('../datasets/movies.csv')"
   ]
  },
  {
   "cell_type": "code",
   "execution_count": 3,
   "metadata": {},
   "outputs": [
    {
     "name": "stdout",
     "output_type": "stream",
     "text": [
      "(242, 5006)\n"
     ]
    }
   ],
   "source": [
    "# size of data\n",
    "print(moviesdata.shape) # 242 rows, 5006 columns -> 242 movies, 5006 columns"
   ]
  },
  {
   "cell_type": "code",
   "execution_count": 4,
   "metadata": {},
   "outputs": [],
   "source": [
    "# Decide how many rows will be used for training and testing (for example, 30% for test)\n",
    "\n",
    "# two ways (depending on course objectives)\n",
    "# 1. the short way, using sklearn\n",
    "#from sklearn.model_selection import train_test_split\n",
    "#training_data, test_data = train_test_split(moviesdata, test_size=0.3)\n",
    "\n",
    "\n",
    "# 2. do it \"from scratch\"\n",
    "# Split moviesdata into two\n",
    "#   scramble rows of the movies data\n",
    "moviesdata_scrambled = moviesdata.sample(frac=1, random_state = 1).reset_index(drop=True)\n",
    "\n",
    "#   split\n",
    "num_test = np.round( 0.3 * 242 )\n",
    "\n",
    "training_rows_indices = np.arange(num_test, 242)\n",
    "test_rows_indices = np.arange(0, num_test)\n",
    "\n",
    "training_data = moviesdata_scrambled.iloc[training_rows_indices, : ]\n",
    "test_data = moviesdata_scrambled.iloc[test_rows_indices, : ]"
   ]
  },
  {
   "cell_type": "code",
   "execution_count": 5,
   "metadata": {},
   "outputs": [
    {
     "name": "stdout",
     "output_type": "stream",
     "text": [
      "(169, 5006)\n",
      "(73, 5006)\n"
     ]
    }
   ],
   "source": [
    "# check numberof training and test data\n",
    "print(training_data.shape)\n",
    "print(test_data.shape)"
   ]
  },
  {
   "cell_type": "markdown",
   "metadata": {},
   "source": [
    "## 1. Data exploration and feature selection"
   ]
  },
  {
   "cell_type": "code",
   "execution_count": null,
   "metadata": {},
   "outputs": [],
   "source": []
  },
  {
   "cell_type": "code",
   "execution_count": null,
   "metadata": {},
   "outputs": [],
   "source": []
  },
  {
   "cell_type": "markdown",
   "metadata": {},
   "source": [
    "## 2. Development of your own classifier"
   ]
  },
  {
   "cell_type": "code",
   "execution_count": null,
   "metadata": {},
   "outputs": [],
   "source": []
  },
  {
   "cell_type": "code",
   "execution_count": null,
   "metadata": {},
   "outputs": [],
   "source": []
  },
  {
   "cell_type": "markdown",
   "metadata": {},
   "source": [
    "## 3. Assessment of your classifier"
   ]
  },
  {
   "cell_type": "code",
   "execution_count": null,
   "metadata": {},
   "outputs": [],
   "source": []
  },
  {
   "cell_type": "code",
   "execution_count": null,
   "metadata": {},
   "outputs": [],
   "source": []
  },
  {
   "cell_type": "markdown",
   "metadata": {},
   "source": [
    "## 4. k-Nearest Neighbor Classifier"
   ]
  },
  {
   "cell_type": "code",
   "execution_count": null,
   "metadata": {},
   "outputs": [],
   "source": []
  },
  {
   "cell_type": "code",
   "execution_count": null,
   "metadata": {},
   "outputs": [],
   "source": []
  },
  {
   "cell_type": "markdown",
   "metadata": {},
   "source": [
    "## 5. Writeup (Summary and Conclusion)"
   ]
  },
  {
   "cell_type": "markdown",
   "metadata": {},
   "source": [
    "(Your writeup goes here)"
   ]
  }
 ],
 "metadata": {
  "kernelspec": {
   "display_name": "Python 3",
   "language": "python",
   "name": "python3"
  },
  "language_info": {
   "codemirror_mode": {
    "name": "ipython",
    "version": 3
   },
   "file_extension": ".py",
   "mimetype": "text/x-python",
   "name": "python",
   "nbconvert_exporter": "python",
   "pygments_lexer": "ipython3",
   "version": "3.7.0"
  }
 },
 "nbformat": 4,
 "nbformat_minor": 2
}
