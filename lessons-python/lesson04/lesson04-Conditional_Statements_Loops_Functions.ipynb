{
 "cells": [
  {
   "cell_type": "markdown",
   "metadata": {},
   "source": [
    "# Lesson 4: Conditional Statements, Loops, and Functions\n",
    "\n",
    "Key Ideas:\n",
    "1. Understanding if-else statements\n",
    "2. Creating new functions; understanding the motivation for creating new functions\n",
    "3. Understanding for loops; tracing how values change during loops"
   ]
  },
  {
   "cell_type": "markdown",
   "metadata": {},
   "source": [
    "## 1. Conditional Statements\n",
    "\n",
    "We can implement statements of the form \"If A, then B; else, C\" in python.\n",
    "\n",
    "Suppose that we would like python to carry out one of two tasks depending on whether a particular condition is satisfied:\n",
    "+ If `CONDITION1` is `True`, then carry out `TASK1`\n",
    "+ If `CONDITION1` is `False`, then carry out `TASK2`\n",
    "\n",
    "We can accomplish this as follows:\n",
    "```\n",
    "if CONDITION1:\n",
    "    TASK1\n",
    "else:\n",
    "    TASK2\n",
    "```\n",
    "Note that the indentation here is very important.\n",
    "\n",
    "\n",
    "***Example***\n",
    "\n",
    "Let the variable `age` be someone's age.  Depending the value of `age`, we will print out one of two possible texts:\n",
    "+ If `age` is 18 or greater, print out 'You can vote'\n",
    "+ Otherwise (i.e., if `age` is less than 18), print out 'You cannot vote'"
   ]
  },
  {
   "cell_type": "code",
   "execution_count": null,
   "metadata": {},
   "outputs": [],
   "source": [
    "age = 21 # experiment and try a few other values\n",
    "\n",
    "\n",
    "if age >= 18:\n",
    "    print('You can vote')\n",
    "else:\n",
    "    print('You cannot vote')"
   ]
  },
  {
   "cell_type": "code",
   "execution_count": null,
   "metadata": {},
   "outputs": [],
   "source": [
    "# note that the expression age >= 18 on its own evaluates to True or False:\n",
    "\n",
    "age = 21 # experiment and try a few other values\n",
    "\n",
    "age >= 18"
   ]
  },
  {
   "cell_type": "markdown",
   "metadata": {},
   "source": [
    "In general, the \"else\" clause could be skipped.  For example, suppose we don't want to print out anything if `age` is less than 18, we can skip the else clause"
   ]
  },
  {
   "cell_type": "code",
   "execution_count": null,
   "metadata": {},
   "outputs": [],
   "source": [
    "age = 17 # experiment and try a few other values\n",
    "\n",
    "\n",
    "if age >= 18:\n",
    "    print('You can vote')\n",
    "    \n",
    "# since age is set as 17 above and no else clause is included, nothing is printed out."
   ]
  },
  {
   "cell_type": "markdown",
   "metadata": {},
   "source": [
    "### Boolean operations\n",
    "\n",
    "Boolean values are values that are either `True` or `False`.  Suppose that x and y are boolean values, we can produce a new boolean value using the following operations:\n",
    "+ `and`: `x and y` will have a value `True` when both `x` and `y` are `True`; otherwise, the result is `False` \n",
    "+ `or`: `x or y` will have a value `True` when one or both of `x` or `y` is `True`; otherwise, the result is `False` \n",
    "+ `not`: `not x` will have a value of `True` when `x` is `False`, and will have a value of `False` when `x` is `True`\n",
    "\n",
    "Please run the code cells below and experiment with the given examples"
   ]
  },
  {
   "cell_type": "code",
   "execution_count": null,
   "metadata": {},
   "outputs": [],
   "source": [
    "# and\n",
    "\n",
    "x = True    # modify this value\n",
    "y = False   # modify this value\n",
    "z = x and y\n",
    "\n",
    "print(z)"
   ]
  },
  {
   "cell_type": "code",
   "execution_count": null,
   "metadata": {},
   "outputs": [],
   "source": [
    "# or\n",
    "\n",
    "x = True    # modify this value\n",
    "y = False   # modify this value\n",
    "z = x or y\n",
    "\n",
    "print(z)"
   ]
  },
  {
   "cell_type": "code",
   "execution_count": null,
   "metadata": {},
   "outputs": [],
   "source": [
    "# not\n",
    "\n",
    "x = True    # modify this value\n",
    "y = False   # modify this value\n",
    "w = not x\n",
    "z = not y\n",
    "\n",
    "print(w)\n",
    "print(z)"
   ]
  },
  {
   "cell_type": "code",
   "execution_count": null,
   "metadata": {},
   "outputs": [],
   "source": [
    "# combine!\n",
    "\n",
    "w = True    # modify this value\n",
    "x = True    # modify this value\n",
    "y = False   # modify this value\n",
    "\n",
    "z = (x or y) and (not w)     # try modifying this expression\n",
    "\n",
    "print(w)\n",
    "print(z)"
   ]
  },
  {
   "cell_type": "markdown",
   "metadata": {},
   "source": [
    "**Example**\n",
    "\n",
    "An online retailer provides free shipping to customers whose order is at least \\\\$50 and whose shipping address is in the United States.\n",
    "\n",
    "For each customer, the online retailer maintains two variables:\n",
    "+ `total_order`: a numerical value that keeps track of the customer's total order\n",
    "+ `has_us_address`: a boolean value (`True` or `False`) whose value is `True` if the order is to be shipped to an address in the United States.\n",
    "\n",
    "Write an if-else statement that accomplishes the following:\n",
    "+ Prints 'Free shipping!' if the total order is at least 50 and the shipping address is in the United States.\n",
    "+ Prints 'No free shipping :(' otherwise"
   ]
  },
  {
   "cell_type": "code",
   "execution_count": null,
   "metadata": {},
   "outputs": [],
   "source": [
    "# example values\n",
    "total_order = 49.99     # try modifying this value\n",
    "has_us_address = True   # try modifying this value\n",
    "\n",
    "if total_order >= 50 and has_us_address :\n",
    "    print('Free shipping!')\n",
    "else:\n",
    "    print('No free shipping :(')"
   ]
  },
  {
   "cell_type": "markdown",
   "metadata": {},
   "source": [
    "***Exercise***\n",
    "\n",
    "Consider the same online retailer above.  Recall that this retailer provides free shipping to customers whose order is at least \\\\$50 and whose shipping address is in the United States.\n",
    "\n",
    "In addition, the retailer is distributing a promotion code to select customers.  Customers who has a promo code will receive free shipping regardless of their order total and regardless of whether their order is to be shipped to a US address.\n",
    "\n",
    "For each customer, the online retailer maintains three variables:\n",
    "+ `total_order`: a numerical value that keeps track of the customer's total order\n",
    "+ `has_us_address`: a boolean value (`True` or `False`) whose value is `True` if the order is to be shipped to an address in the United States.\n",
    "+ `has_promo_code`: a boolean value (`True` or `False`) whose value is `True` if the customer has entered a promo code.\n",
    "\n",
    "Write an if-else statement that accomplishes the following:\n",
    "+ Prints 'Free shipping!' if \n",
    "    + the total order is at least 50 and the shipping address is in the United States, OR\n",
    "    + the customer has entered a promo code\n",
    "+ Prints 'No free shipping :(' otherwise"
   ]
  },
  {
   "cell_type": "code",
   "execution_count": null,
   "metadata": {},
   "outputs": [],
   "source": []
  },
  {
   "cell_type": "markdown",
   "metadata": {},
   "source": [
    "### Nested if-else statements\n",
    "\n",
    "We can have one if-else statement within another if-else statement.\n",
    "\n",
    "***Example***\n",
    "\n",
    "Let the variable `age` be someone's age and the variable `citizenship` be the person's country of citizenship.  Depending the contents of `age` and `citizenship`, we will print out one of two possible texts:\n",
    "+ If `age` is 18 or greater, check the value of `citizenship`:\n",
    "    + If `citizenship` is equal to 'United States', then print out 'You can vote in US elections'\n",
    "    + Otherwise, print out 'You cannot vote in US elections'\n",
    "+ Otherwise (i.e., if `age` is less than 18), print out 'You cannot vote in US elections'"
   ]
  },
  {
   "cell_type": "code",
   "execution_count": null,
   "metadata": {},
   "outputs": [],
   "source": [
    "age = 21 # experiment and try a few other values\n",
    "citizenship = 'United States' # experiment and try a few other values\n",
    "\n",
    "if age >= 18:\n",
    "    \n",
    "    # here is another if-else statement inside the first one\n",
    "    if citizenship == 'United States':  \n",
    "        # NOTE: two equal signs is needed above because we are checking whether or not the citizeship is 'United States'\n",
    "        #       if we only use one equal sign, we will see an error message because python interpret that as a value assignment (try it!)\n",
    "        \n",
    "        print('You can vote in US elections')\n",
    "    else:\n",
    "        print('You cannot vote in US elections')\n",
    "        \n",
    "else:\n",
    "    print('You cannot vote in US elections')"
   ]
  },
  {
   "cell_type": "markdown",
   "metadata": {},
   "source": [
    "### If statements with multiple cases\n",
    "\n",
    "Suppose that we would like python to carry out one of several tasks depending on whether a particular condition is satisfied:\n",
    "\n",
    "If CONDITION1 is True, then carry out TASK1\n",
    "Else, if CONDITION2 is True, then carry out TASK2\n",
    "Else, if CONDITION3 is True, then carry out TASK3\n",
    "...\n",
    "Else (if all previous conditions are false), then carry out FINALTASK\n",
    "\n",
    "We can accomplish this as follows:\n",
    "```\n",
    "if CONDITION1:\n",
    "    TASK1\n",
    "elif CONDITION2:\n",
    "    TASK2\n",
    "elif CONDITION3:\n",
    "    TASK3\n",
    "elif ... :\n",
    "    ...\n",
    "else:\n",
    "    FINALTASK\n",
    "```\n",
    "\n",
    "***Example***\n",
    "\n",
    "Suppose that an instructor in a course wants to provide quick comments on an assignment in an automated way based on student's score (0 to 100), as follows:\n",
    "+ If the score is greater than or equal to 90, then provide the comment 'Excellent work!' \n",
    "+ If the score is less than 90 but is greater than or equal to 80, then provide the comment 'Great job!' \n",
    "+ If the score is less than 80 but is greater than or equal to 60, then provide the comment 'Good progress!' \n",
    "+ Otherwise (if the score is less than 60), then provide the comment 'Please review the topic and see me if you have any questions.'\n",
    "\n",
    "Suppose we store the assigment score as `score`.  We will assign a feedback (let's name it `comment`) depending on the value of `score`, and print out the feedback stored in `comment` at the end."
   ]
  },
  {
   "cell_type": "code",
   "execution_count": null,
   "metadata": {},
   "outputs": [],
   "source": [
    "score = 75 # try other numbers as well\n",
    "comment = ''  # this is currently an empty text, but we will update it below\n",
    "\n",
    "if score >= 90 :\n",
    "    comment = 'Excellent work!'\n",
    "elif score >= 80 :\n",
    "    comment = 'Great job!'\n",
    "elif score >= 60 :\n",
    "    comment = 'Good progress!'\n",
    "else :\n",
    "    comment = 'Please review the topic and see me if you have any questions.'\n",
    "\n",
    "print( comment )"
   ]
  },
  {
   "cell_type": "markdown",
   "metadata": {},
   "source": [
    "***Exercise***\n",
    "\n",
    "Consider the above example.  Suppose that the instructor would like to modify their feedback as follows:\n",
    "+ If the score is less than 60 but greater than 50, the comment is 'Please review the topic and see me if you have any questions.'\n",
    "+ But if the score is less than 50, the comment is 'Please see me during my office hours.'\n",
    "\n",
    "Please modify the code cell below (copied-and-pasted from above) to reflect this change."
   ]
  },
  {
   "cell_type": "code",
   "execution_count": null,
   "metadata": {},
   "outputs": [],
   "source": [
    "# Exercise\n",
    "# TODO: Modify this code cell\n",
    "\n",
    "score = 75 # try other numbers as well\n",
    "comment = ''  # this is currently an empty text, but we will update it below\n",
    "\n",
    "if score >= 90 :\n",
    "    comment = 'Excellent work!'\n",
    "elif score >= 80 :\n",
    "    comment = 'Great job!'\n",
    "elif score >= 60 :\n",
    "    comment = 'Good progress!'\n",
    "else :\n",
    "    comment = 'Please review the topic and see me if you have any questions.'\n",
    "\n",
    "print( comment )"
   ]
  },
  {
   "cell_type": "markdown",
   "metadata": {},
   "source": [
    "## 2. Functions\n",
    "\n",
    "We have used many functions in python. For example:\n",
    "+ `np.sum( [1, 2, 3] )` returns the value 6\n",
    "+ `len( [1, 2, 3] )` returns the value 3\n",
    "+ etc.\n",
    "\n",
    "There are a lot of useful functions in python that we can use. However, sometimes we have a specific task for which we need to write our own python function.\n",
    "\n",
    "***Example***\n",
    "\n",
    "You decided to check out a very popular restaurant in your neighborhood.  After waiting in line for two hours, you are finally seated. As you are reading the menu, you realized that this restaurant is cash-only.  You have \\\\$28.75 with you and need to make sure that you have enough cash to pay for the dinner, including the 8.875\\% tax and the tip.\n",
    "+ You are considering ordering a \\\\$15 dish and a \\\\$6 beverage. How much would you have to pay if you are giving an 18\\% tip?\n",
    "+ Could you afford a \\\\$17 dish and a \\\\$6 beverage, with the same 8.875\\% tax and 18\\% tip?\n",
    "+ Could you afford this meal if you only give a 15\\% tip?\n",
    "\n",
    "The three code cells below help us answer the above three questions. "
   ]
  },
  {
   "cell_type": "code",
   "execution_count": null,
   "metadata": {},
   "outputs": [],
   "source": [
    "import numpy as np\n",
    "\n",
    "order_list = [15, 6]  # this list contains the cost of each item you order\n",
    "tax_rate = 0.0875     # tax rate; in this example, 8.75%\n",
    "tip_rate = 0.18       # how much to tip; in this example, 18%\n",
    "\n",
    "subtotal = np.sum( order_list ) # compute subtotal\n",
    "tax = subtotal * tax_rate       # compute tax\n",
    "tip = subtotal * tip_rate       # compute tip\n",
    "total = subtotal + tax + tip    # compute total\n",
    "\n",
    "print(total)\n",
    "\n",
    "if total <= 28.75:\n",
    "    print('You have enough cash on you')\n",
    "else:\n",
    "    print('You do not have enough cash on you')"
   ]
  },
  {
   "cell_type": "code",
   "execution_count": null,
   "metadata": {},
   "outputs": [],
   "source": [
    "order_list = [17, 6]\n",
    "tax_rate = 0.0875\n",
    "tip_rate = 0.18\n",
    "\n",
    "subtotal = np.sum( order_list )\n",
    "tax = subtotal * tax_rate\n",
    "tip = subtotal * tip_rate\n",
    "total = subtotal + tax + tip\n",
    "\n",
    "print(total)\n",
    "\n",
    "if total <= 28.75:\n",
    "    print('You have enough cash on you')\n",
    "else:\n",
    "    print('You do not have enough cash on you')"
   ]
  },
  {
   "cell_type": "code",
   "execution_count": null,
   "metadata": {},
   "outputs": [],
   "source": [
    "order_list = [17, 6]\n",
    "tax_rate = 0.0875\n",
    "tip_rate = 0.15\n",
    "\n",
    "subtotal = np.sum( order_list )\n",
    "tax = subtotal * tax_rate\n",
    "tip = subtotal * tip_rate\n",
    "total = subtotal + tax + tip\n",
    "\n",
    "print(total)\n",
    "\n",
    "if total <= 28.75:\n",
    "    print('You have enough cash on you')\n",
    "else:\n",
    "    print('You do not have enough cash on you')"
   ]
  },
  {
   "cell_type": "markdown",
   "metadata": {},
   "source": [
    "Note that **the computation** process in the above three examples **are exactly the same**; the only parts that are **different** are the cost of the **items ordered** and the **tip rates**.\n",
    "\n",
    "Let us create a new function to do the above repeated computation more efficiently.\n",
    "\n",
    "Recall that a function has (1) inputs, (2) carries out an action, and (3) produces an output.\n",
    "\n",
    "Motivated by the above example, we could create a function where\n",
    "+ The **inputs** are (1) the list of costs of the **items ordered** and (2) the **tip rate**\n",
    "+ The action is to carry out the computation for the total bill given the above inputs\n",
    "+ The output is the total bill.\n",
    "\n",
    "\n",
    "### Creating a new function\n",
    "\n",
    "```\n",
    "def FUNCTIONNAME(  INPUTS ):\n",
    "    \n",
    "    ACTION\n",
    "    \n",
    "    return( OUTPUT )\n",
    "```\n",
    "\n",
    "***Example***\n",
    "\n",
    "Create a function called `calculate_bill` that takes two inputs: `order_list` and `tip_rate`.  The function carries out the computation for the total bill given the above inputs.  Then, it outputs the total bill.\n",
    "\n",
    "Then, test that the function works properly by using it."
   ]
  },
  {
   "cell_type": "code",
   "execution_count": null,
   "metadata": {},
   "outputs": [],
   "source": [
    "# define the new function:\n",
    "\n",
    "def calculate_bill( order_list , tip_rate ):   # inside the parentheses here are the inputs\n",
    "    \n",
    "    # the 'action' / the computation\n",
    "    tax_rate = 0.0875 # assume that tax rate is 8.875% (a constant; is not up to the person who orders the food)\n",
    "    \n",
    "    subtotal = np.sum( order_list )\n",
    "    tax = subtotal * tax_rate\n",
    "    tip = subtotal * tip_rate\n",
    "    total = subtotal + tax + tip\n",
    "    \n",
    "    return( total )"
   ]
  },
  {
   "cell_type": "code",
   "execution_count": null,
   "metadata": {},
   "outputs": [],
   "source": [
    "# check that this works\n",
    "\n",
    "# first, specify what the inputs are\n",
    "my_order_list = [21, 4, 2]\n",
    "my_tip_rate = 0.2\n",
    "\n",
    "# then, \"call\" / use the function using the specified input values\n",
    "calculate_bill( my_order_list , my_tip_rate )"
   ]
  },
  {
   "cell_type": "code",
   "execution_count": null,
   "metadata": {},
   "outputs": [],
   "source": [
    "# check that this works, example 2\n",
    "\n",
    "# first, specify what the inputs are\n",
    "your_order_list = [20, 3]\n",
    "your_tip_rate = 0.25\n",
    "\n",
    "# then, \"call\" / use the function using the specified input values\n",
    "your_bill_total = calculate_bill( your_order_list , your_tip_rate )  # here we create a new variable to store the output value\n",
    "print( your_bill_total )"
   ]
  },
  {
   "cell_type": "markdown",
   "metadata": {},
   "source": [
    "## 3. Loops\n",
    "\n",
    "Loops are used when we want to repeat the same task for each member of a list.\n",
    "\n",
    "**Example**\n",
    "\n",
    "I have three favorite fruits: apples, bananas, and watermelons.  For each of my favorite fruit, I would like to declare that I like them:\n",
    "\n",
    "'I like apples!'\n",
    "\n",
    "'I like bananas!'\n",
    "\n",
    "'I like watermelons!'\n",
    "\n",
    "I typed the above three sentences one by one.  This isn't so bad because I only have three favorite fruits, but we can imagine that this gets tedious if I have say 100 favorite items.  In addition, this is extremely tedious because the three sentences are essentially exactly the same: 'I like [fruit name]!' except that the fruit names are each of the three items on my list.  \n",
    "\n",
    "Tasks like this can be automated by using a loop.\n",
    "\n",
    "\n",
    "### For Loops\n",
    "\n",
    "There are different types of loops we can work with, but in this lesson we will learn about just one type: for loops.\n",
    "\n",
    "Here is the format of for loops:\n",
    "\n",
    "To repeat `TASK` for each `ITEM` in the list `LIST`\n",
    "```\n",
    "for ITEM in LIST :\n",
    "    TASK\n",
    "```\n",
    "\n",
    "**Example**\n",
    "\n",
    "Consider the example above:\n",
    "+ The list: the list containing my three favorite fruits: ['apples', 'bananas', 'watermelons']\n",
    "+ The task: To print out the sentence 'I like X!' where X is each item in the above list\n",
    "\n",
    "The python code:\n",
    "```\n",
    "for X in ['apples', 'bananas', 'watermelons'] :\n",
    "    print('I like ' + X + '!') \n",
    "```"
   ]
  },
  {
   "cell_type": "code",
   "execution_count": null,
   "metadata": {},
   "outputs": [],
   "source": [
    "# try the above code:\n",
    "for X in ['apples', 'bananas', 'watermelons'] :\n",
    "    print('I like ' + X + '!')"
   ]
  },
  {
   "cell_type": "code",
   "execution_count": null,
   "metadata": {},
   "outputs": [],
   "source": [
    "# here is a slightly different way to do the same thing:\n",
    "\n",
    "favorite_fruits =  ['apples', 'bananas', 'watermelon']\n",
    "\n",
    "for item in favorite_fruits :   # here we use item instead of X; we can use any name as long as we're consistent in the next line\n",
    "    print('I like ' + item + '!') # item here refers to each item in the list favorite_fruits."
   ]
  },
  {
   "cell_type": "markdown",
   "metadata": {},
   "source": [
    "**Exercise**\n",
    "\n",
    "Consider the code cell above.\n",
    "1. Try adding more items into the list; rerun the code cell.  Does it do what you expect?\n",
    "2. Try changing the name `item` in line 5 to any other name of your choice.  Do not change anything else.  Why do we see an error?\n",
    "3. In order to avoid the error you see in Question 2 above, what else do we need to change?"
   ]
  },
  {
   "cell_type": "markdown",
   "metadata": {},
   "source": [
    "In the above example, the loop was carried out over a list that we specified manually.  Sometimes, we need to repeat the task over a larger number of repetitions.  The following function is useful.\n",
    "\n",
    "**A useful numpy function: `np.arange()`**\n",
    "\n",
    "To produce an array of values from x to y with stepsize z (including x but excluding y):\n",
    "```\n",
    "np.arange( x, y, z )\n",
    "```\n",
    "If z is not specified, the default step size is 1."
   ]
  },
  {
   "cell_type": "code",
   "execution_count": null,
   "metadata": {},
   "outputs": [],
   "source": [
    "# example\n",
    "np.arange(0, 6) # try other numbers"
   ]
  },
  {
   "cell_type": "code",
   "execution_count": null,
   "metadata": {},
   "outputs": [],
   "source": [
    "# example\n",
    "np.arange(1, 10.5, 0.5) # try other numbers"
   ]
  },
  {
   "cell_type": "markdown",
   "metadata": {},
   "source": [
    "**Note**: There are other ways to produce a list of integer values.  For example, try:\n",
    "```\n",
    "list( range(x, y) )\n",
    "```"
   ]
  },
  {
   "cell_type": "code",
   "execution_count": null,
   "metadata": {},
   "outputs": [],
   "source": [
    "# example\n",
    "list( range(0, 6) )     # similar to np.arange(0, 6)"
   ]
  },
  {
   "cell_type": "markdown",
   "metadata": {},
   "source": [
    "**Example**\n",
    "\n",
    "Use a for loop to display the text:<br>\n",
    "\"1 squared is 1\"<br>\n",
    "\"2 squared is 4\"<br>\n",
    "... up to<br>\n",
    "\"20 squared is 400\"<br>\n",
    "\n",
    "That is, for each integer from 1 to 20, we want to display the text '`x` squared is `x**2`'.\n",
    "+ the list: the list containing integers 1 to 20, which can be produced using `np.arange(1, 21)` (we want to include 20, so we go up to 21)\n",
    "+ the task: to print the sentence '`x` squared is `x**2`' for each x in the above list."
   ]
  },
  {
   "cell_type": "code",
   "execution_count": null,
   "metadata": {},
   "outputs": [],
   "source": [
    "# example\n",
    "for x in np.arange(1, 21):\n",
    "    x_astext = str( x )   # using str( ) converts the numerical value x into a text/string value\n",
    "    xsquared_astext = str( x ** 2 )   # using str( ) converts the numerical value x ** 2 into a text value\n",
    "    print( x_astext + ' squared is ' + xsquared_astext )\n",
    "    "
   ]
  },
  {
   "cell_type": "markdown",
   "metadata": {},
   "source": [
    "**Exercise**\n",
    "\n",
    "Use a for loop to display the text:<br>\n",
    "\"-2 cubed is -8\"<br>\n",
    "\"-1 cubed is -1\"<br>\n",
    "... up to<br>\n",
    "\"11 cubed is 1331\"<br>"
   ]
  },
  {
   "cell_type": "code",
   "execution_count": null,
   "metadata": {},
   "outputs": [],
   "source": [
    "# your work for the above exercise here\n",
    "# ..."
   ]
  },
  {
   "cell_type": "markdown",
   "metadata": {},
   "source": [
    "### Further References\n",
    "\n",
    "This lesson covers the basics of if-else statements, function definition, and loops.  For more on this topic, see https://docs.python.org/3/tutorial/controlflow.html"
   ]
  },
  {
   "cell_type": "markdown",
   "metadata": {},
   "source": [
    "## Lesson 4 Exercises"
   ]
  },
  {
   "cell_type": "markdown",
   "metadata": {},
   "source": [
    "***Exercise 1*** *(if-else statements)*\n",
    "\n",
    "Suppose that the names `x`, `y`, and `z` contains numerical values.\n",
    "1. Please write an if-else statement that assign a value to `z` based on the values of `x` and `y`, as follows: Let `z` be whichever is the larger one between `x` and `y`.\n",
    "2. Try different values for `x` and `y` to check that your if-else statement always assigns the correct value for `z`.\n",
    "3. In the given markdown cell, please briefly (1-2 sentences) summarize your thought process/reasoning.  To what mathematical function does this if-else statement above correspond?"
   ]
  },
  {
   "cell_type": "code",
   "execution_count": null,
   "metadata": {},
   "outputs": [],
   "source": [
    "# your work for exercise 1 here\n",
    "\n",
    "x = 3    # try other values for x and y\n",
    "y = -10  # try other values for x and y\n",
    "\n",
    "# write an if-else statement to assign a value for z based on values of x and y\n",
    "# ...\n",
    "\n"
   ]
  },
  {
   "cell_type": "markdown",
   "metadata": {},
   "source": [
    "..."
   ]
  },
  {
   "cell_type": "markdown",
   "metadata": {},
   "source": [
    "***Exercise 2*** *(functions)*\n",
    "\n",
    "Write a python function called `even_or_odd` which \n",
    "+ takes one integer value `x` as an input and \n",
    "+ returns as an output a text value:\n",
    "    + 'even' if `x` is an even integer and \n",
    "    + 'odd' if `x` is an odd integer.\n",
    "        \n",
    "Note: using an if-else statement along with the remainder operation (`%`) is helpful here."
   ]
  },
  {
   "cell_type": "code",
   "execution_count": null,
   "metadata": {},
   "outputs": [],
   "source": [
    "# your work for exercise 2 here\n",
    "\n",
    "def even_or_odd( x ):\n",
    "    # ...\n",
    "    # ...\n",
    "    # return ..."
   ]
  },
  {
   "cell_type": "code",
   "execution_count": null,
   "metadata": {},
   "outputs": [],
   "source": [
    "# once you completed the function definition above, \n",
    "#    check that it behaves correctly by calling/using the function below\n",
    "\n",
    "even_or_odd( 25 )   # try out different numbers\n"
   ]
  },
  {
   "cell_type": "markdown",
   "metadata": {},
   "source": [
    "..."
   ]
  },
  {
   "cell_type": "markdown",
   "metadata": {},
   "source": [
    "***Exercise 3*** *(functions, loops)*\n",
    "\n",
    "Suppose that we have a new function called `myfunction`, defined as\n",
    "follows:\n",
    "```\n",
    "def myfunction( x, y ):\n",
    "    z = x\n",
    "    for i in np.arange(0,y) :\n",
    "        z = z + i \n",
    "    return( z )\n",
    "```\n",
    "\n",
    "If we run the command \n",
    "```\n",
    "myfunction(2, 3)\n",
    "```\n",
    "what value would be returned by this function?  Try to first answer this question by reasoning through the given codes, without actually running the code.  Then, check if your answer is correct by actually writing the code and running it."
   ]
  },
  {
   "cell_type": "markdown",
   "metadata": {},
   "source": [
    "[Your answer + reasoning here]"
   ]
  },
  {
   "cell_type": "code",
   "execution_count": null,
   "metadata": {},
   "outputs": [],
   "source": [
    "# your work for exercise 3 here\n",
    "# check if your reasoning is correct by writing the function in this code cell\n",
    "\n",
    "def myfunction( x, y ):\n",
    "    # ... \n",
    "    # ...\n",
    "    \n",
    "myfunction(2, 3)   # then try other input values as well"
   ]
  },
  {
   "cell_type": "markdown",
   "metadata": {},
   "source": [
    "***Exercise 4*** *(loops)*\n",
    "\n",
    "Below, we have a data frame called `us_state_capitals` containing four variables (columns) and 50 rows.\n",
    "+ The column `name` contains the state names\n",
    "+ The column `description` contains the states' capital cities\n",
    "\n",
    "Run the following code cell to load and preview the data frame."
   ]
  },
  {
   "cell_type": "code",
   "execution_count": null,
   "metadata": {},
   "outputs": [],
   "source": [
    "# for exercise 4,\n",
    "# simply run this code cell to view the contents of the dataframe `state_capitals`\n",
    "# do not modify this code cell\n",
    "\n",
    "us_state_capitals = pd.read_csv('https://raw.githubusercontent.com/jasperdebie/VisInfo/master/us-state-capitals.csv')\n",
    "\n",
    "us_state_capitals # preview the data frame"
   ]
  },
  {
   "cell_type": "markdown",
   "metadata": {},
   "source": [
    "Your tasks in Exercise 4:\n",
    "1. What is the output of the following command?\n",
    "    ```\n",
    "    us_state_capitals['name'][2]\n",
    "    ```\n",
    "2. What is the output of the following command?\n",
    "    ```\n",
    "    us_state_capitals['description'][2]\n",
    "    ```\n",
    "\n",
    "3. What is the output of the following command?\n",
    "    ```\n",
    "    state = us_state_capitals['name'][2]\n",
    "    cap = us_state_capitals['description'][2]\n",
    "    print('The capital of ' + state + ' is ' + cap)\n",
    "    ```\n",
    "4. Consider the three lines of codes in Question 3 above.  \n",
    "    + What is the significance of the number `2` inside the pairs of square brackets?  \n",
    "    + Copy and paste the three lines of codes in Question 3, and change the number `2` to `14`; what do you see?  \n",
    "    + Try changing the number `2` to `55`.  What happens?<br><br>\n",
    "    \n",
    "5. Notice that the capital of Connecticut is listed as 'Hartford\\\\<br\\\\>', which is correct but could be cleaned up by removing the '\\\\<br\\\\>' portion of this text.  We can do this by running the following command:\n",
    "    ```\n",
    "    us_state_capitals['description'][...] = 'Hartford'\n",
    "    ```\n",
    "    What number should replace `...`?\n",
    "    \n",
    "    Similarly, please clean up the text for the capital of Georgia by replacing 'Atlanta\\\\<br\\\\>' with just 'Atlanta'.<br><br>\n",
    "    \n",
    "6. Write a for loop that prints out the sentence of the form 'The capital of [state name] is [capital city name]' for each US state."
   ]
  },
  {
   "cell_type": "code",
   "execution_count": null,
   "metadata": {},
   "outputs": [],
   "source": [
    "# your work for exercise 4 here\n",
    "# ..."
   ]
  },
  {
   "cell_type": "code",
   "execution_count": null,
   "metadata": {},
   "outputs": [],
   "source": []
  },
  {
   "cell_type": "code",
   "execution_count": null,
   "metadata": {},
   "outputs": [],
   "source": []
  },
  {
   "cell_type": "code",
   "execution_count": null,
   "metadata": {},
   "outputs": [],
   "source": []
  },
  {
   "cell_type": "markdown",
   "metadata": {},
   "source": [
    "..."
   ]
  }
 ],
 "metadata": {
  "kernelspec": {
   "display_name": "Python 3",
   "language": "python",
   "name": "python3"
  },
  "language_info": {
   "codemirror_mode": {
    "name": "ipython",
    "version": 3
   },
   "file_extension": ".py",
   "mimetype": "text/x-python",
   "name": "python",
   "nbconvert_exporter": "python",
   "pygments_lexer": "ipython3",
   "version": "3.7.6"
  }
 },
 "nbformat": 4,
 "nbformat_minor": 4
}
